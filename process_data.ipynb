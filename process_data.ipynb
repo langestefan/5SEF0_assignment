{
 "cells": [
  {
   "cell_type": "code",
   "execution_count": 1,
   "metadata": {},
   "outputs": [],
   "source": [
    "import pandas as pd\n",
    "import numpy as np\n",
    "import pickle"
   ]
  },
  {
   "attachments": {},
   "cell_type": "markdown",
   "metadata": {},
   "source": [
    "Import standard dataset"
   ]
  },
  {
   "cell_type": "code",
   "execution_count": 2,
   "metadata": {},
   "outputs": [
    {
     "name": "stdout",
     "output_type": "stream",
     "text": [
      "(100, 34944)\n"
     ]
    }
   ],
   "source": [
    "file = 'data.pkl'\n",
    "\n",
    "# Load pre-configured data\n",
    "f = open(file, \"rb\")\n",
    "scenario_data = pickle.load(f)\n",
    "\n",
    "# print header\n",
    "list(scenario_data.keys())\n",
    "baseloads = scenario_data[\"baseloaddata\"]\n",
    "print(baseloads.shape)\n",
    "n_houses, n_samples = baseloads.shape"
   ]
  },
  {
   "attachments": {},
   "cell_type": "markdown",
   "metadata": {},
   "source": [
    "Import day-ahead prices dataset"
   ]
  },
  {
   "cell_type": "code",
   "execution_count": 3,
   "metadata": {},
   "outputs": [
    {
     "name": "stdout",
     "output_type": "stream",
     "text": [
      "(8761, 2)\n"
     ]
    },
    {
     "data": {
      "text/html": [
       "<div>\n",
       "<style scoped>\n",
       "    .dataframe tbody tr th:only-of-type {\n",
       "        vertical-align: middle;\n",
       "    }\n",
       "\n",
       "    .dataframe tbody tr th {\n",
       "        vertical-align: top;\n",
       "    }\n",
       "\n",
       "    .dataframe thead th {\n",
       "        text-align: right;\n",
       "    }\n",
       "</style>\n",
       "<table border=\"1\" class=\"dataframe\">\n",
       "  <thead>\n",
       "    <tr style=\"text-align: right;\">\n",
       "      <th></th>\n",
       "      <th>MTU (CET/CEST)</th>\n",
       "      <th>Day-ahead Price [EUR/MWh]</th>\n",
       "    </tr>\n",
       "  </thead>\n",
       "  <tbody>\n",
       "    <tr>\n",
       "      <th>0</th>\n",
       "      <td>01.01.2020 00:00 - 01.01.2020 01:00</td>\n",
       "      <td>41.88</td>\n",
       "    </tr>\n",
       "    <tr>\n",
       "      <th>1</th>\n",
       "      <td>01.01.2020 01:00 - 01.01.2020 02:00</td>\n",
       "      <td>38.60</td>\n",
       "    </tr>\n",
       "    <tr>\n",
       "      <th>2</th>\n",
       "      <td>01.01.2020 02:00 - 01.01.2020 03:00</td>\n",
       "      <td>36.55</td>\n",
       "    </tr>\n",
       "    <tr>\n",
       "      <th>3</th>\n",
       "      <td>01.01.2020 03:00 - 01.01.2020 04:00</td>\n",
       "      <td>32.32</td>\n",
       "    </tr>\n",
       "    <tr>\n",
       "      <th>4</th>\n",
       "      <td>01.01.2020 04:00 - 01.01.2020 05:00</td>\n",
       "      <td>30.85</td>\n",
       "    </tr>\n",
       "  </tbody>\n",
       "</table>\n",
       "</div>"
      ],
      "text/plain": [
       "                        MTU (CET/CEST)  Day-ahead Price [EUR/MWh]\n",
       "0  01.01.2020 00:00 - 01.01.2020 01:00                      41.88\n",
       "1  01.01.2020 01:00 - 01.01.2020 02:00                      38.60\n",
       "2  01.01.2020 02:00 - 01.01.2020 03:00                      36.55\n",
       "3  01.01.2020 03:00 - 01.01.2020 04:00                      32.32\n",
       "4  01.01.2020 04:00 - 01.01.2020 05:00                      30.85"
      ]
     },
     "execution_count": 3,
     "metadata": {},
     "output_type": "execute_result"
    }
   ],
   "source": [
    "# dataset_2020 = pd.read_csv('Day-ahead Prices_2020_1h.csv')\n",
    "dataset_2020 = pd.read_csv('Day-ahead Prices_2020_1h.csv', usecols=['MTU (CET/CEST)', 'Day-ahead Price [EUR/MWh]'])\n",
    "\n",
    "# print the first 5 rows of the dataframe.\n",
    "print(dataset_2020.shape)\n",
    "dataset_2020.head()"
   ]
  },
  {
   "attachments": {},
   "cell_type": "markdown",
   "metadata": {},
   "source": [
    "Resample to 15 minute intervals"
   ]
  },
  {
   "cell_type": "code",
   "execution_count": 4,
   "metadata": {},
   "outputs": [
    {
     "data": {
      "text/html": [
       "<div>\n",
       "<style scoped>\n",
       "    .dataframe tbody tr th:only-of-type {\n",
       "        vertical-align: middle;\n",
       "    }\n",
       "\n",
       "    .dataframe tbody tr th {\n",
       "        vertical-align: top;\n",
       "    }\n",
       "\n",
       "    .dataframe thead th {\n",
       "        text-align: right;\n",
       "    }\n",
       "</style>\n",
       "<table border=\"1\" class=\"dataframe\">\n",
       "  <thead>\n",
       "    <tr style=\"text-align: right;\">\n",
       "      <th></th>\n",
       "      <th>MTU (CET/CEST)</th>\n",
       "      <th>Day-ahead Price [EUR/MWh]</th>\n",
       "    </tr>\n",
       "  </thead>\n",
       "  <tbody>\n",
       "    <tr>\n",
       "      <th>0</th>\n",
       "      <td>2020-01-01 00:00:00</td>\n",
       "      <td>41.88</td>\n",
       "    </tr>\n",
       "    <tr>\n",
       "      <th>1</th>\n",
       "      <td>2020-01-01 01:00:00</td>\n",
       "      <td>38.60</td>\n",
       "    </tr>\n",
       "    <tr>\n",
       "      <th>2</th>\n",
       "      <td>2020-01-01 02:00:00</td>\n",
       "      <td>36.55</td>\n",
       "    </tr>\n",
       "    <tr>\n",
       "      <th>3</th>\n",
       "      <td>2020-01-01 03:00:00</td>\n",
       "      <td>32.32</td>\n",
       "    </tr>\n",
       "    <tr>\n",
       "      <th>4</th>\n",
       "      <td>2020-01-01 04:00:00</td>\n",
       "      <td>30.85</td>\n",
       "    </tr>\n",
       "  </tbody>\n",
       "</table>\n",
       "</div>"
      ],
      "text/plain": [
       "       MTU (CET/CEST)  Day-ahead Price [EUR/MWh]\n",
       "0 2020-01-01 00:00:00                      41.88\n",
       "1 2020-01-01 01:00:00                      38.60\n",
       "2 2020-01-01 02:00:00                      36.55\n",
       "3 2020-01-01 03:00:00                      32.32\n",
       "4 2020-01-01 04:00:00                      30.85"
      ]
     },
     "execution_count": 4,
     "metadata": {},
     "output_type": "execute_result"
    }
   ],
   "source": [
    "# convert the date column to datetime\n",
    "dates = dataset_2020['MTU (CET/CEST)']\n",
    "dates = dates.str.slice(0, 16)\n",
    "dates = pd.to_datetime(dates, format='%d.%m.%Y %H:%M')\n",
    "\n",
    "# write back to dataframe\n",
    "dataset_2020['MTU (CET/CEST)'] = dates\n",
    "dataset_2020.head()"
   ]
  },
  {
   "cell_type": "code",
   "execution_count": 5,
   "metadata": {},
   "outputs": [
    {
     "name": "stdout",
     "output_type": "stream",
     "text": [
      "1\n",
      "                     Day-ahead Price [EUR/MWh]\n",
      "MTU (CET/CEST)                                \n",
      "2020-10-25 02:00:00                       0.09\n"
     ]
    }
   ],
   "source": [
    "dataset_2020 = dataset_2020.set_index('MTU (CET/CEST)')\n",
    "dup_index = dataset_2020.index.duplicated()\n",
    "print(dup_index.sum())\n",
    "# print the duplicates\n",
    "print(dataset_2020[dup_index])\n",
    "\n",
    "# remove duplicates\n",
    "dataset_2020 = dataset_2020[~dup_index]"
   ]
  },
  {
   "cell_type": "code",
   "execution_count": 6,
   "metadata": {},
   "outputs": [],
   "source": [
    "# interpolate\n",
    "dataset_2020 = dataset_2020.resample('15min').interpolate(method='linear')\n",
    "\n",
    "# cut to n_samples\n",
    "dataset_2020 = dataset_2020.iloc[:n_samples]"
   ]
  },
  {
   "cell_type": "code",
   "execution_count": 7,
   "metadata": {},
   "outputs": [
    {
     "name": "stdout",
     "output_type": "stream",
     "text": [
      "(34944, 1)\n"
     ]
    },
    {
     "data": {
      "text/html": [
       "<div>\n",
       "<style scoped>\n",
       "    .dataframe tbody tr th:only-of-type {\n",
       "        vertical-align: middle;\n",
       "    }\n",
       "\n",
       "    .dataframe tbody tr th {\n",
       "        vertical-align: top;\n",
       "    }\n",
       "\n",
       "    .dataframe thead th {\n",
       "        text-align: right;\n",
       "    }\n",
       "</style>\n",
       "<table border=\"1\" class=\"dataframe\">\n",
       "  <thead>\n",
       "    <tr style=\"text-align: right;\">\n",
       "      <th></th>\n",
       "      <th>Day-ahead Price [EUR/MWh]</th>\n",
       "    </tr>\n",
       "    <tr>\n",
       "      <th>MTU (CET/CEST)</th>\n",
       "      <th></th>\n",
       "    </tr>\n",
       "  </thead>\n",
       "  <tbody>\n",
       "    <tr>\n",
       "      <th>2020-01-01 00:00:00</th>\n",
       "      <td>41.88</td>\n",
       "    </tr>\n",
       "    <tr>\n",
       "      <th>2020-01-01 00:15:00</th>\n",
       "      <td>41.06</td>\n",
       "    </tr>\n",
       "    <tr>\n",
       "      <th>2020-01-01 00:30:00</th>\n",
       "      <td>40.24</td>\n",
       "    </tr>\n",
       "    <tr>\n",
       "      <th>2020-01-01 00:45:00</th>\n",
       "      <td>39.42</td>\n",
       "    </tr>\n",
       "    <tr>\n",
       "      <th>2020-01-01 01:00:00</th>\n",
       "      <td>38.60</td>\n",
       "    </tr>\n",
       "  </tbody>\n",
       "</table>\n",
       "</div>"
      ],
      "text/plain": [
       "                     Day-ahead Price [EUR/MWh]\n",
       "MTU (CET/CEST)                                \n",
       "2020-01-01 00:00:00                      41.88\n",
       "2020-01-01 00:15:00                      41.06\n",
       "2020-01-01 00:30:00                      40.24\n",
       "2020-01-01 00:45:00                      39.42\n",
       "2020-01-01 01:00:00                      38.60"
      ]
     },
     "execution_count": 7,
     "metadata": {},
     "output_type": "execute_result"
    }
   ],
   "source": [
    "print(dataset_2020.shape)\n",
    "dataset_2020.head()"
   ]
  },
  {
   "attachments": {},
   "cell_type": "markdown",
   "metadata": {},
   "source": [
    "Store data as pickle"
   ]
  },
  {
   "cell_type": "code",
   "execution_count": 8,
   "metadata": {},
   "outputs": [],
   "source": [
    "pickled = open('day_ahead_2020.pkl', 'wb')\n",
    "pickle.dump(dataset_2020, pickled)\n",
    "pickled.close()"
   ]
  }
 ],
 "metadata": {
  "kernelspec": {
   "display_name": "2di66",
   "language": "python",
   "name": "python3"
  },
  "language_info": {
   "codemirror_mode": {
    "name": "ipython",
    "version": 3
   },
   "file_extension": ".py",
   "mimetype": "text/x-python",
   "name": "python",
   "nbconvert_exporter": "python",
   "pygments_lexer": "ipython3",
   "version": "3.10.9"
  },
  "orig_nbformat": 4
 },
 "nbformat": 4,
 "nbformat_minor": 2
}
